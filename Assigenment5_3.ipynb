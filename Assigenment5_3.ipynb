{
 "cells": [
  {
   "cell_type": "markdown",
   "metadata": {},
   "source": [
    "# Assigenment5_3"
   ]
  },
  {
   "cell_type": "raw",
   "metadata": {},
   "source": [
    "Calculate F Test for given 10, 20, 30, 40, 50 and 5,10,15, 20, 25."
   ]
  },
  {
   "cell_type": "markdown",
   "metadata": {},
   "source": [
    "# Soluation"
   ]
  },
  {
   "cell_type": "raw",
   "metadata": {},
   "source": [
    "\n",
    "#Calculate variance for First set\n",
    "N =10,20,30,40,50  #Total Input\n",
    "SD=15.8114 \n",
    "Variance=250 \n",
    "\n",
    "#Calculate Variance of second set as same\n",
    "N=5,10,15,20,25\n",
    "SD=7.9057\n",
    "Variance=62.5 \n",
    "\n",
    "\n",
    "#To calculate F Test\n",
    "F Test = (variance of 10, 20,30,40,50) / (variance of 5, 10, 15, 20, 25)\n",
    "= 250/62.5\n",
    "= 4. \n",
    "\n",
    "The F Test value is 4. "
   ]
  },
  {
   "cell_type": "code",
   "execution_count": null,
   "metadata": {},
   "outputs": [],
   "source": []
  }
 ],
 "metadata": {
  "kernelspec": {
   "display_name": "Python 3",
   "language": "python",
   "name": "python3"
  },
  "language_info": {
   "codemirror_mode": {
    "name": "ipython",
    "version": 3
   },
   "file_extension": ".py",
   "mimetype": "text/x-python",
   "name": "python",
   "nbconvert_exporter": "python",
   "pygments_lexer": "ipython3",
   "version": "3.6.4"
  }
 },
 "nbformat": 4,
 "nbformat_minor": 2
}
