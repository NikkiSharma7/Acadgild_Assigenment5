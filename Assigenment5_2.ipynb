{
 "cells": [
  {
   "cell_type": "markdown",
   "metadata": {},
   "source": [
    "# Assigenment5_2"
   ]
  },
  {
   "cell_type": "raw",
   "metadata": {},
   "source": [
    "Using the following data, perform a oneway analysis of variance using α=.05. Write up\n",
    "the results in APA format.\n",
    "\n",
    "[Group1: 51, 45, 33, 45, 67]\n",
    "[Group2: 23, 43, 23, 43, 45]\n",
    "[Group3: 56, 76, 74, 87, 56]"
   ]
  },
  {
   "cell_type": "markdown",
   "metadata": {},
   "source": [
    "# Soluation"
   ]
  },
  {
   "cell_type": "raw",
   "metadata": {},
   "source": [
    "Sample means (x¯) for the groups: = 48.2, 35.4, 69.8\n",
    "calculating the group variances:\n",
    "\n",
    "Group:1\n",
    "value mean       deviations sq deviations\n",
    "1    51 48.2        2.8          7.84\n",
    "2    45 48.2       -3.2         10.24\n",
    "3    33 48.2      -15.2        231.04\n",
    "4    45 48.2       -3.2         10.24\n",
    "5    67 48.2       18.8        353.44\n",
    "\n",
    "Sum of squared deviations:612.8 \n",
    "\n",
    "\n",
    "Group 2:\n",
    "value mean      deviations   sq deviations\n",
    "1    23 35.4      -12.4        153.76\n",
    "2    43 35.4        7.6         57.76\n",
    "3    23 35.4      -12.4        153.76\n",
    "4    43 35.4        7.6         57.76\n",
    "5    45 35.4        9.6         92.16\n",
    "\n",
    "Sum of squared deviations  515.2 \n",
    "Group 3:\n",
    "value mean     deviations sq deviations\n",
    "1    56 69.8      -13.8        190.44\n",
    "2    76 69.8        6.2         38.44\n",
    "3    74 69.8        4.2         17.64\n",
    "4    87 69.8       17.2        295.84\n",
    "5    56 69.8      -13.8        190.44\n",
    "\n",
    "Sum of squared deviations: 732.8\n",
    "\n",
    "    \n",
    "Var1=153.2\n",
    "\n",
    "Var2=128.8\n",
    "\n",
    "Var3=183.2\n",
    "\n",
    "MSerror=153.2+128.8+183.23=155.07 \n",
    "\n",
    "Sum of squares (Error) = ΣΣ (X - X̄j)2\n",
    "\n",
    "SSerror=(155.07)(15−3)=1860.8\n",
    "\n",
    "Grand mean (x¯grand) = 48.2+35.4+69.83=51.13\n",
    "\n",
    "group mean grand mean deviations sq deviations\n",
    "    48.2      51.13      -2.93          8.58\n",
    "    35.4      51.13     -15.73        247.43\n",
    "    69.8      51.13      18.67        348.57\n",
    "    \n",
    "    \n",
    "Sum of squares (SSmeans)=604.58\n",
    "\n",
    "Varmeans=604.583−1=302.29\n",
    "\n",
    "MSbetween=(302.29)(5)=1511.45\n",
    "\n",
    "Calculating the remaining between (or group) terms of the ANOVA table:\n",
    "\n",
    "dfgroups=3−1=2\n",
    "\n",
    "SSgroup=(1511.45)(3−1)=3022.9\n",
    "\n",
    "Test statistic and critical value\n",
    "\n",
    "F=1511.45155.07=9.75\n",
    "\n",
    "Fcritical(2,12)=3.89\n",
    "\n",
    "Since 9.75 > 3.885, we reject the null hypothesis.\n",
    "Therefore, the population means are not equal.\n",
    "\n",
    "ANOVA table\n",
    "source    SS      df      MS         F\n",
    "group   3022.9     2      1511.45    9.75\n",
    "error   1860.8     12     155.07 \n",
    "total   4883.7 \n",
    "\n",
    "\n",
    "\n",
    "Effect size\n",
    "\n",
    "η2=3022.94883.7=0.62\n",
    "\n",
    "APA writeup\n",
    "\n",
    "F(2, 12)=9.75, p <0.05, η2=0.62.\n"
   ]
  },
  {
   "cell_type": "code",
   "execution_count": null,
   "metadata": {},
   "outputs": [],
   "source": []
  }
 ],
 "metadata": {
  "kernelspec": {
   "display_name": "Python 3",
   "language": "python",
   "name": "python3"
  },
  "language_info": {
   "codemirror_mode": {
    "name": "ipython",
    "version": 3
   },
   "file_extension": ".py",
   "mimetype": "text/x-python",
   "name": "python",
   "nbconvert_exporter": "python",
   "pygments_lexer": "ipython3",
   "version": "3.6.4"
  }
 },
 "nbformat": 4,
 "nbformat_minor": 2
}
