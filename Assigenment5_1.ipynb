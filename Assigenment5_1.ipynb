{
 "cells": [
  {
   "cell_type": "markdown",
   "metadata": {},
   "source": [
    "# Assigenment5_1"
   ]
  },
  {
   "cell_type": "raw",
   "metadata": {},
   "source": [
    "Is gender independent of education level? A random sample of 395 people were surveyed and each person was asked to report the highest education level they obtained. The data that resulted from the survey is summarized in the following table:\n",
    "High School Bachelors Masters Ph.d. Total\n",
    "Female 60 54 46 41 201\n",
    "Male 40 44 53 57 194\n",
    "Total 100 98 99 98 395\n",
    "Question: Are gender and education level dependent at 5% level of significance? In other words, given the data collected above, is there a relationship between the gender of an individual and the level of education that they have obtained?"
   ]
  },
  {
   "cell_type": "markdown",
   "metadata": {},
   "source": [
    "# Soluation"
   ]
  },
  {
   "cell_type": "raw",
   "metadata": {},
   "source": [
    "we have \n",
    "Row totals and column totals are given above sample size = 395\n",
    "let\n",
    "H0: Gender and Education are independent\n",
    "H1: Gender and Education are dependent\n",
    "    \n",
    "The expected frequency under the null hypothesis is given by:\n",
    "\n",
    "E = row total * column total / sample size\n",
    "\n",
    "Therefore, we have expected frequencies as follows:\n",
    "\n",
    "High School Bachelors Masters Ph.d.\n",
    "Female 50.886 49.868 50.377 49.868\n",
    "Male 49.114 48.132 48.623 48.132\n",
    "\n",
    "Therefore, Χ2 = 1.632 + 0.342 + 0.38 + 1.577 + 1.691 + 0.355 + 0.394 + 1.634 = 8.006\n",
    "\n",
    "The critical value of χ2 with 3 degree of freedom is 7.815. \n",
    "Since 8.006 > 7.815, therefore we reject the null hypothesis and conclude that \n",
    "the education level depends on gender at a 5% level of significance. "
   ]
  },
  {
   "cell_type": "code",
   "execution_count": null,
   "metadata": {},
   "outputs": [],
   "source": []
  }
 ],
 "metadata": {},
 "nbformat": 4,
 "nbformat_minor": 2
}
